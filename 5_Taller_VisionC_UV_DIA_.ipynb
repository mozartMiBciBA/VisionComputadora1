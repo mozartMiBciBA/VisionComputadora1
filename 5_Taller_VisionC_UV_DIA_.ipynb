{
  "nbformat": 4,
  "nbformat_minor": 0,
  "metadata": {
    "colab": {
      "provenance": [],
      "authorship_tag": "ABX9TyPFWUlZ+GUi6m0hkwWq8LQ7",
      "include_colab_link": true
    },
    "kernelspec": {
      "name": "python3",
      "display_name": "Python 3"
    },
    "language_info": {
      "name": "python"
    }
  },
  "cells": [
    {
      "cell_type": "markdown",
      "metadata": {
        "id": "view-in-github",
        "colab_type": "text"
      },
      "source": [
        "<a href=\"https://colab.research.google.com/github/mozartMiBciBA/VisionComputadora1/blob/main/5_Taller_VisionC_UV_DIA_.ipynb\" target=\"_parent\"><img src=\"https://colab.research.google.com/assets/colab-badge.svg\" alt=\"Open In Colab\"/></a>"
      ]
    },
    {
      "cell_type": "markdown",
      "source": [
        "\n",
        "Taller Introducción a la Visión por Computadora\n",
        "\n",
        "Fuente: https://www.youtube.com/watch?v=UaYzwAGqR2o\n",
        "\n",
        "Fuente2: https://docs.opencv.org/3.4/d2/de8/group__core__array.html\n",
        "\n"
      ],
      "metadata": {
        "id": "V94dd-Rh3lT0"
      }
    },
    {
      "cell_type": "markdown",
      "source": [
        "Método 1 para cargar imagenes"
      ],
      "metadata": {
        "id": "tmQdeto14TQT"
      }
    },
    {
      "cell_type": "markdown",
      "source": [
        "$$ \\frac{\\partial^2 z}{\\partial x^2}  $$"
      ],
      "metadata": {
        "id": "rmSXYnuRNb_X"
      }
    },
    {
      "cell_type": "markdown",
      "source": [
        "Practica 1: Cargar imadenes y mostrarla"
      ],
      "metadata": {
        "id": "SQnHXq5LeTr5"
      }
    },
    {
      "cell_type": "code",
      "execution_count": null,
      "metadata": {
        "colab": {
          "base_uri": "https://localhost:8080/",
          "height": 90
        },
        "id": "gDz1_2Af1CEW",
        "outputId": "1b5a6279-5d98-4b65-8cc6-b68c988de341"
      },
      "outputs": [
        {
          "output_type": "display_data",
          "data": {
            "text/plain": [
              "<IPython.core.display.HTML object>"
            ],
            "text/html": [
              "\n",
              "     <input type=\"file\" id=\"files-482bf164-97cd-4b88-b74a-420aa59f4a9b\" name=\"files[]\" multiple disabled\n",
              "        style=\"border:none\" />\n",
              "     <output id=\"result-482bf164-97cd-4b88-b74a-420aa59f4a9b\">\n",
              "      Upload widget is only available when the cell has been executed in the\n",
              "      current browser session. Please rerun this cell to enable.\n",
              "      </output>\n",
              "      <script>// Copyright 2017 Google LLC\n",
              "//\n",
              "// Licensed under the Apache License, Version 2.0 (the \"License\");\n",
              "// you may not use this file except in compliance with the License.\n",
              "// You may obtain a copy of the License at\n",
              "//\n",
              "//      http://www.apache.org/licenses/LICENSE-2.0\n",
              "//\n",
              "// Unless required by applicable law or agreed to in writing, software\n",
              "// distributed under the License is distributed on an \"AS IS\" BASIS,\n",
              "// WITHOUT WARRANTIES OR CONDITIONS OF ANY KIND, either express or implied.\n",
              "// See the License for the specific language governing permissions and\n",
              "// limitations under the License.\n",
              "\n",
              "/**\n",
              " * @fileoverview Helpers for google.colab Python module.\n",
              " */\n",
              "(function(scope) {\n",
              "function span(text, styleAttributes = {}) {\n",
              "  const element = document.createElement('span');\n",
              "  element.textContent = text;\n",
              "  for (const key of Object.keys(styleAttributes)) {\n",
              "    element.style[key] = styleAttributes[key];\n",
              "  }\n",
              "  return element;\n",
              "}\n",
              "\n",
              "// Max number of bytes which will be uploaded at a time.\n",
              "const MAX_PAYLOAD_SIZE = 100 * 1024;\n",
              "\n",
              "function _uploadFiles(inputId, outputId) {\n",
              "  const steps = uploadFilesStep(inputId, outputId);\n",
              "  const outputElement = document.getElementById(outputId);\n",
              "  // Cache steps on the outputElement to make it available for the next call\n",
              "  // to uploadFilesContinue from Python.\n",
              "  outputElement.steps = steps;\n",
              "\n",
              "  return _uploadFilesContinue(outputId);\n",
              "}\n",
              "\n",
              "// This is roughly an async generator (not supported in the browser yet),\n",
              "// where there are multiple asynchronous steps and the Python side is going\n",
              "// to poll for completion of each step.\n",
              "// This uses a Promise to block the python side on completion of each step,\n",
              "// then passes the result of the previous step as the input to the next step.\n",
              "function _uploadFilesContinue(outputId) {\n",
              "  const outputElement = document.getElementById(outputId);\n",
              "  const steps = outputElement.steps;\n",
              "\n",
              "  const next = steps.next(outputElement.lastPromiseValue);\n",
              "  return Promise.resolve(next.value.promise).then((value) => {\n",
              "    // Cache the last promise value to make it available to the next\n",
              "    // step of the generator.\n",
              "    outputElement.lastPromiseValue = value;\n",
              "    return next.value.response;\n",
              "  });\n",
              "}\n",
              "\n",
              "/**\n",
              " * Generator function which is called between each async step of the upload\n",
              " * process.\n",
              " * @param {string} inputId Element ID of the input file picker element.\n",
              " * @param {string} outputId Element ID of the output display.\n",
              " * @return {!Iterable<!Object>} Iterable of next steps.\n",
              " */\n",
              "function* uploadFilesStep(inputId, outputId) {\n",
              "  const inputElement = document.getElementById(inputId);\n",
              "  inputElement.disabled = false;\n",
              "\n",
              "  const outputElement = document.getElementById(outputId);\n",
              "  outputElement.innerHTML = '';\n",
              "\n",
              "  const pickedPromise = new Promise((resolve) => {\n",
              "    inputElement.addEventListener('change', (e) => {\n",
              "      resolve(e.target.files);\n",
              "    });\n",
              "  });\n",
              "\n",
              "  const cancel = document.createElement('button');\n",
              "  inputElement.parentElement.appendChild(cancel);\n",
              "  cancel.textContent = 'Cancel upload';\n",
              "  const cancelPromise = new Promise((resolve) => {\n",
              "    cancel.onclick = () => {\n",
              "      resolve(null);\n",
              "    };\n",
              "  });\n",
              "\n",
              "  // Wait for the user to pick the files.\n",
              "  const files = yield {\n",
              "    promise: Promise.race([pickedPromise, cancelPromise]),\n",
              "    response: {\n",
              "      action: 'starting',\n",
              "    }\n",
              "  };\n",
              "\n",
              "  cancel.remove();\n",
              "\n",
              "  // Disable the input element since further picks are not allowed.\n",
              "  inputElement.disabled = true;\n",
              "\n",
              "  if (!files) {\n",
              "    return {\n",
              "      response: {\n",
              "        action: 'complete',\n",
              "      }\n",
              "    };\n",
              "  }\n",
              "\n",
              "  for (const file of files) {\n",
              "    const li = document.createElement('li');\n",
              "    li.append(span(file.name, {fontWeight: 'bold'}));\n",
              "    li.append(span(\n",
              "        `(${file.type || 'n/a'}) - ${file.size} bytes, ` +\n",
              "        `last modified: ${\n",
              "            file.lastModifiedDate ? file.lastModifiedDate.toLocaleDateString() :\n",
              "                                    'n/a'} - `));\n",
              "    const percent = span('0% done');\n",
              "    li.appendChild(percent);\n",
              "\n",
              "    outputElement.appendChild(li);\n",
              "\n",
              "    const fileDataPromise = new Promise((resolve) => {\n",
              "      const reader = new FileReader();\n",
              "      reader.onload = (e) => {\n",
              "        resolve(e.target.result);\n",
              "      };\n",
              "      reader.readAsArrayBuffer(file);\n",
              "    });\n",
              "    // Wait for the data to be ready.\n",
              "    let fileData = yield {\n",
              "      promise: fileDataPromise,\n",
              "      response: {\n",
              "        action: 'continue',\n",
              "      }\n",
              "    };\n",
              "\n",
              "    // Use a chunked sending to avoid message size limits. See b/62115660.\n",
              "    let position = 0;\n",
              "    do {\n",
              "      const length = Math.min(fileData.byteLength - position, MAX_PAYLOAD_SIZE);\n",
              "      const chunk = new Uint8Array(fileData, position, length);\n",
              "      position += length;\n",
              "\n",
              "      const base64 = btoa(String.fromCharCode.apply(null, chunk));\n",
              "      yield {\n",
              "        response: {\n",
              "          action: 'append',\n",
              "          file: file.name,\n",
              "          data: base64,\n",
              "        },\n",
              "      };\n",
              "\n",
              "      let percentDone = fileData.byteLength === 0 ?\n",
              "          100 :\n",
              "          Math.round((position / fileData.byteLength) * 100);\n",
              "      percent.textContent = `${percentDone}% done`;\n",
              "\n",
              "    } while (position < fileData.byteLength);\n",
              "  }\n",
              "\n",
              "  // All done.\n",
              "  yield {\n",
              "    response: {\n",
              "      action: 'complete',\n",
              "    }\n",
              "  };\n",
              "}\n",
              "\n",
              "scope.google = scope.google || {};\n",
              "scope.google.colab = scope.google.colab || {};\n",
              "scope.google.colab._files = {\n",
              "  _uploadFiles,\n",
              "  _uploadFilesContinue,\n",
              "};\n",
              "})(self);\n",
              "</script> "
            ]
          },
          "metadata": {}
        },
        {
          "output_type": "stream",
          "name": "stdout",
          "text": [
            "Saving Fig0308.tif to Fig0308.tif\n",
            "Archivo \"Fig0308.tif\" tamaño 729046 bytes\n"
          ]
        }
      ],
      "source": [
        "from google.colab import files\n",
        "uploaded = files.upload()\n",
        "for fn in uploaded.keys():\n",
        "  print('Archivo \"{name}\" tamaño {length} bytes'.format(\n",
        "      name=fn, length=len(uploaded[fn])))"
      ]
    },
    {
      "cell_type": "markdown",
      "source": [
        "Practica # 1. Carga de imagen y desplegarla.\n",
        "\n",
        "We work with a 8 bit image (256 colour levels)"
      ],
      "metadata": {
        "id": "to_o1IuA5KFI"
      }
    },
    {
      "cell_type": "code",
      "source": [
        "import cv2\n",
        "import numpy as np\n",
        "from matplotlib import pyplot as plt\n",
        "\n",
        "img = cv2.imread('Fig0219.tif', 0)\n",
        "print('Dimensiones : ',img.shape)\n",
        "plt.imshow(img, cmap='gray')\n",
        "plt.title('Imagen')\n",
        "plt.show()"
      ],
      "metadata": {
        "id": "g8qECPYo5R7w"
      },
      "execution_count": null,
      "outputs": []
    },
    {
      "cell_type": "markdown",
      "source": [
        "PRACTICA #2 \"Suma y resta de imagenes\""
      ],
      "metadata": {
        "id": "Ed_bdwUzlrCp"
      }
    },
    {
      "cell_type": "code",
      "source": [
        "import cv2\n",
        "import numpy as np\n",
        "from matplotlib import pyplot as plt\n",
        "\n",
        "img1 = cv2.imread('Fig0219.tif',0)\n",
        "img2 = cv2.imread('Fig0219.tif',0)\n",
        "#w1, h1 = img1.shape\n",
        "#w2, h2 = img2.shape\n",
        "#print ('w1', w1)\n",
        "#\n",
        "plt.imshow(img1, cmap='gray')\n",
        "plt.title('Original')\n",
        "plt.show()\n",
        "print(\"img1[400][400]:\", img1[400][400])\n",
        "#print(\"img1[400][400]:\", img1[400][400])\n",
        "#print(\"img1[600][600]:\", img1[600][600])\n",
        "\n",
        "##### Suma\n",
        "#SumA = cv2.add(img1,img2)\n",
        "#SumA = cv2.add(img1,250)\n",
        "###  Lighten (f + 128) ###\n",
        "SumA = cv2.add(img1,128)\n",
        "\n",
        "##### Resta\n",
        "\n",
        "#RestA = cv2.absdiff(img1, img2)\n",
        "#RestA = cv2.absdiff(img1, 50)\n",
        "\n",
        "### Darken  ###\n",
        "#RestA = cv2.absdiff(img1, 128)\n",
        "\n",
        "### Invert  ###\n",
        "RestA = cv2.absdiff(255,img1)\n",
        "\n",
        "### División\n",
        "### Low contrast (f/2)\n",
        "DivisioN = cv2.divide(img1,2)\n",
        "\n",
        "\n",
        "### Multiplicación ###\n",
        "### High constrast (f * 2)\n",
        "MultiplicacioN = cv2.multiply(img1,2)\n",
        "\n",
        "### Multiplicación y adición\n",
        "### Gray\n",
        "### 0.3 * f_r + 0.6 * f_g + 0.1 * f_b\n",
        "\n",
        "\n",
        "\n",
        "#plt.imshow(SumA, cmap='gray')\n",
        "#plt.title('Suma')\n",
        "#plt.show()\n",
        "#print(\"SumA[0][0]:\", SumA[0][0])\n",
        "#print(\"SumA[400][400]:\", SumA[400][400])\n",
        "#print(\"SumA[600][600]:\", SumA[600][600])\n",
        "\n",
        "\n",
        "#plt.imshow(RestA, cmap='gray')\n",
        "#plt.title('Resta')\n",
        "#plt.show()\n",
        "#print(\"RestA[0][0]:\", RestA[0][0])\n",
        "#print(\"RestA[400][400]:\", RestA[400][400])\n",
        "#print(\"RestA[600][600]:\", RestA[600][600])\n",
        "\n",
        "plt.show()\n",
        "plt.subplot(2,2,1),plt.imshow(RestA, cmap='gray'), plt.title('RestA')\n",
        "plt.xticks([]), plt.yticks([])\n",
        "plt.subplot(2,2,2),plt.imshow(DivisioN, cmap='gray'), plt.title('Low contrast (f/2)')\n",
        "plt.xticks([]), plt.yticks([])\n",
        "plt.subplot(2,2,3),plt.imshow(MultiplicacioN, cmap='gray'), plt.title('High contrast (f*2)')\n",
        "plt.xticks([]), plt.yticks([])\n",
        "plt.subplot(2,2,4),plt.imshow(SumA, cmap='gray'), plt.title('SumA')\n",
        "plt.xticks([]), plt.yticks([])\n",
        "plt.show()"
      ],
      "metadata": {
        "id": "aRNounzjlyfo"
      },
      "execution_count": null,
      "outputs": []
    },
    {
      "cell_type": "markdown",
      "source": [
        "Practica # 3.\n",
        "\n",
        "Cuantificación de la escala de grises a la imagen (matriz ƒ(x,y) )\n",
        "\n"
      ],
      "metadata": {
        "id": "FwUkNpzFJ3LY"
      }
    },
    {
      "cell_type": "code",
      "source": [
        "def gray2ind(img, k):\n",
        "  dim = img.shape\n",
        "  im1 = np.zeros((dim), dtype=np.uint8) \n",
        "  nivel=int(256/k) \n",
        "  for i in range(img.shape[0]):\n",
        "     for j in range(img.shape[1]):\n",
        "            #im1[i][j]=int(img[i][j]/nivel)*nivel\n",
        "            im1[i][j]=int(img[i][j]/nivel)*nivel\n",
        "  return im1\n",
        "import cv2\n",
        "import numpy as np\n",
        "from matplotlib import pyplot as plt\n",
        "\n",
        "img = cv2.imread('Fig0221.tif', 0)\n",
        "\n",
        "img16 = gray2ind(img, 16)\n",
        "img8 = gray2ind(img, 8)\n",
        "img4 = gray2ind(img, 4)\n",
        "img2 = gray2ind(img, 2)\n",
        "\n",
        "plt.imshow(img16, cmap='gray'), plt.title('Imagen original')\n",
        "plt.xticks([]), plt.yticks([])\n",
        "\n",
        "plt.show()\n",
        "plt.subplot(2,2,1),plt.imshow(img16, cmap='gray'), plt.title('16 niveles de gris')\n",
        "plt.xticks([]), plt.yticks([])\n",
        "plt.subplot(2,2,2),plt.imshow(img8, cmap='gray'), plt.title('8 niveles de gris')\n",
        "plt.xticks([]), plt.yticks([])\n",
        "plt.subplot(2,2,3),plt.imshow(img4, cmap='gray'), plt.title('4 niveles de gris')\n",
        "plt.xticks([]), plt.yticks([])\n",
        "plt.subplot(2,2,4),plt.imshow(img2, cmap='gray'), plt.title('2 niveles de gris')\n",
        "plt.xticks([]), plt.yticks([])\n",
        "plt.show()"
      ],
      "metadata": {
        "id": "RrWDpMtSKA8q"
      },
      "execution_count": null,
      "outputs": []
    },
    {
      "cell_type": "markdown",
      "source": [
        "Práctica # 4\n",
        "\n",
        "Módifica el tamaño de la imagen."
      ],
      "metadata": {
        "id": "wqauNyw8SZsN"
      }
    },
    {
      "cell_type": "code",
      "source": [
        "import cv2\n",
        "import numpy as np\n",
        "from matplotlib import pyplot as plt\n",
        "\n",
        "img = cv2.imread('Fig0219.tif', 0)\n",
        "\n",
        "scale_percent = 10\n",
        "width = int(img.shape[0]* scale_percent / 100)\n",
        "height = int(img.shape[1]* scale_percent / 100)\n",
        "dim = (width, height)\n",
        "\n",
        "img_SCALED = cv2.resize(img, dim, interpolation=cv2.INTER_LINEAR)\n",
        "\n",
        "plt.imshow(img, cmap='gray')\n",
        "plt.title('Imagen Original')\n",
        "plt.show()\n",
        "\n",
        "plt.imshow(img_SCALED, cmap='gray')\n",
        "plt.title('Imagen Escalada')\n",
        "plt.show()"
      ],
      "metadata": {
        "id": "S2bBMZ8-Slm6"
      },
      "execution_count": null,
      "outputs": []
    },
    {
      "cell_type": "markdown",
      "source": [
        "\n",
        "\n",
        "Practica 4: B\n",
        "\n",
        "Reducción con 2 interpolaciones distintas\n"
      ],
      "metadata": {
        "id": "bpxX7s7LUo5f"
      }
    },
    {
      "cell_type": "code",
      "source": [
        "import cv2\n",
        "import numpy as np\n",
        "from matplotlib import pyplot as plt\n",
        "\n",
        "img = cv2.imread('Fig0219.tif', 0)\n",
        "\n",
        "dim128 = (128, 128)\n",
        "dim64 = (64, 64)\n",
        "dim32 = (32, 32)\n",
        "\n",
        "\n",
        "scaled_LINEAR_128 = cv2.resize(img, dim128, interpolation=cv2.INTER_LINEAR)\n",
        "scaled_LINEAR_64 = cv2.resize(img, dim64, interpolation=cv2.INTER_LINEAR)\n",
        "scaled_LINEAR_32 = cv2.resize(img, dim32, interpolation=cv2.INTER_LINEAR)\n",
        "\n",
        "scaled_NEAREST_128 = cv2.resize(img, dim128, interpolation=cv2.INTER_NEAREST)\n",
        "scaled_NEAREST_64 = cv2.resize(img, dim64, interpolation=cv2.INTER_NEAREST)\n",
        "scaled_NEAREST_32 = cv2.resize(img, dim32, interpolation=cv2.INTER_NEAREST)\n",
        "\n",
        "#Interpolación lineal\n",
        "plt.subplot(2,3,1),plt.imshow(scaled_LINEAR_128, cmap='gray'), plt.title('a linear')\n",
        "#plt.xticks([]), plt.yticks([])\n",
        "plt.subplot(2,3,2),plt.imshow(scaled_LINEAR_64, cmap='gray'), plt.title('b')\n",
        "#plt.xticks([]), plt.yticks([])\n",
        "plt.subplot(2,3,3),plt.imshow(scaled_LINEAR_32, cmap='gray'), plt.title('c')\n",
        "#plt.xticks([]), plt.yticks([])\n",
        "plt.show()\n",
        "\n",
        "\n",
        "#Interpolación nearest\n",
        "plt.subplot(2,3,4),plt.imshow(scaled_NEAREST_128, cmap='gray'), plt.title('d nearest')\n",
        "#plt.xticks([]), plt.yticks([])\n",
        "plt.subplot(2,3,5),plt.imshow(scaled_NEAREST_64, cmap='gray'), plt.title('e')\n",
        "#plt.xticks([]), plt.yticks([])\n",
        "plt.subplot(2,3,6),plt.imshow(scaled_NEAREST_32, cmap='gray'), plt.title('f')\n",
        "#plt.xticks([]), plt.yticks([])\n",
        "plt.show()"
      ],
      "metadata": {
        "id": "Knl5pNyMUyp-"
      },
      "execution_count": null,
      "outputs": []
    },
    {
      "cell_type": "markdown",
      "source": [
        "Práctica # 5 A) \n",
        "\n",
        "Genera la imagen negativa (matriz ƒ(x,y) )"
      ],
      "metadata": {
        "id": "FNakmggAHOta"
      }
    },
    {
      "cell_type": "code",
      "source": [
        "def imadjust(x,a,b,c,d,gamma=0):  \n",
        "   if gamma == 0:\n",
        "    y = 255 - x\n",
        "   else:\n",
        "    y = (((x - a) / (b - a)) ** gamma) * (d - c) + c    \n",
        "   return y\n",
        "\n",
        "import cv2\n",
        "import numpy as np\n",
        "from matplotlib import pyplot as plt\n",
        "from matplotlib.pyplot import figure\n",
        "\n",
        "img = cv2.imread('Fig0304.tif', 0)\n",
        "imgLogNegativo=imadjust(img,0,1,0,0)\n",
        "\n",
        "plt.subplot(1,2,1),plt.imshow(img, cmap='gray'), plt.title('Imagen original')\n",
        "plt.xticks([]), plt.yticks([])\n",
        "plt.subplot(1,2,2),plt.imshow(imgLogNegativo, cmap='gray'), plt.title('Negativo')\n",
        "plt.xticks([]), plt.yticks([])\n",
        "plt.show()"
      ],
      "metadata": {
        "id": "jXZtlO2BHZra"
      },
      "execution_count": null,
      "outputs": []
    },
    {
      "cell_type": "markdown",
      "source": [
        "Práctica # 5 B)\n",
        "\n",
        "Modifica el contraste de la imagen (matriz ƒ(x,y) )."
      ],
      "metadata": {
        "id": "rT7V8ehJKJ26"
      }
    },
    {
      "cell_type": "code",
      "source": [
        "#img2 = cv2.imread('Fig0308.tif', 0)\n",
        "img2 = cv2.imread('Fig0309.tif', 0)\n",
        "\n",
        "#imgLog3=imadjust(img2,0,1,0,1, 0.6)\n",
        "#imgLog4=imadjust(img2,0,1,0,1, 0.4)\n",
        "#imgLog5=imadjust(img2,0,1,0,1, 0.3)\n",
        "\n",
        "imgLog3=imadjust(img2,0,1,0,1, 3)\n",
        "imgLog4=imadjust(img2,0,1,0,1, 4)\n",
        "imgLog5=imadjust(img2,0,1,0,1, 5)\n",
        "\n",
        "figure(figsize=(8, 6), dpi=100)\n",
        "plt.subplot(2,2,1),plt.imshow(img2, cmap='gray'), plt.title('Imagen original')\n",
        "plt.xticks([]), plt.yticks([])\n",
        "plt.subplot(2,2,2),plt.imshow(imgLog3, cmap='gray'), plt.title('gamma = 0.6')\n",
        "plt.xticks([]), plt.yticks([])\n",
        "plt.subplot(2,2,3),plt.imshow(imgLog4, cmap='gray'), plt.title('gamma = 0.4')\n",
        "plt.xticks([]), plt.yticks([])\n",
        "plt.subplot(2,2,4),plt.imshow(imgLog5, cmap='gray'), plt.title('gamma = 0.3')\n",
        "plt.xticks([]), plt.yticks([])\n",
        "plt.show()"
      ],
      "metadata": {
        "id": "d3RIYKhKKSt7"
      },
      "execution_count": null,
      "outputs": []
    },
    {
      "cell_type": "markdown",
      "source": [
        "Práctica # 6\n",
        "\n",
        "Realiza la ecualización del histograma de la imagen (matriz ƒ(x,y) )"
      ],
      "metadata": {
        "id": "YuIX7oXYLeOq"
      }
    },
    {
      "cell_type": "code",
      "source": [
        "import cv2\n",
        "import numpy as np\n",
        "from matplotlib import pyplot as plt\n",
        "from matplotlib.pyplot import figure\n",
        "\n",
        "\n",
        "img_1 = cv2.imread('Fig0320_1.tif', cv2.IMREAD_GRAYSCALE)\n",
        "img_1_hist = cv2.calcHist([img_1], [0], None, [256], [0, 256])\n",
        "img_1_Eq = cv2.equalizeHist(img_1)\n",
        "img_1_Eq_hist =  cv2.calcHist([img_1_Eq],[0],None,[256],[0,256])\n",
        "\n",
        "img_2 = cv2.imread('Fig0320_2.tif', 0)\n",
        "img_2_hist = cv2.calcHist([img_2], [0], None, [256], [0, 256])\n",
        "img_2_Eq = cv2.equalizeHist(img_2)\n",
        "img_2_Eq_hist =  cv2.calcHist([img_2_Eq],[0],None,[256],[0,256])\n",
        "\n",
        "img_3 = cv2.imread('Fig0320_3.tif', 0)\n",
        "img_3_hist = cv2.calcHist([img_3], [0], None, [256], [0, 256])\n",
        "img_3_Eq = cv2.equalizeHist(img_3)\n",
        "img_3_Eq_hist =  cv2.calcHist([img_3_Eq],[0],None,[256],[0,256])\n",
        "\n",
        "img_4 = cv2.imread('Fig0320_4.tif', 0)\n",
        "img_4_hist = cv2.calcHist([img_4], [0], None, [256], [0, 256])\n",
        "img_4_Eq = cv2.equalizeHist(img_4)\n",
        "img_4_Eq_hist =  cv2.calcHist([img_4_Eq],[0],None,[256],[0,256])\n",
        "\n",
        "figure(figsize=(8, 6), dpi=120)\n",
        "\n",
        "plt.subplot(4,4,1),plt.imshow(img_1, cmap='gray'), plt.title('Imagen')\n",
        "plt.xticks([]), plt.yticks([])\n",
        "plt.subplot(4,4,2),plt.plot(img_1_hist), plt.title('Histograma')\n",
        "plt.xticks([]), plt.yticks([])\n",
        "plt.subplot(4,4,3),plt.imshow(img_1_Eq, cmap='gray'), plt.title('Imagen ecualizada')\n",
        "plt.xticks([]), plt.yticks([])\n",
        "plt.subplot(4,4,4),plt.plot(img_1_Eq_hist), plt.title('Histograma')\n",
        "plt.xticks([]), plt.yticks([])\n",
        "\n",
        "plt.subplot(4,4,5),plt.imshow(img_2, cmap='gray'), plt.title('Imagen')\n",
        "plt.xticks([]), plt.yticks([])\n",
        "plt.subplot(4,4,6),plt.plot(img_2_hist), plt.title('Histograma')\n",
        "plt.xticks([]), plt.yticks([])\n",
        "plt.subplot(4,4,7),plt.imshow(img_2_Eq, cmap='gray'), plt.title('Imagen ecualizada')\n",
        "plt.xticks([]), plt.yticks([])\n",
        "plt.subplot(4,4,8),plt.plot(img_2_Eq_hist), plt.title('Histograma')\n",
        "plt.xticks([]), plt.yticks([])\n",
        "\n",
        "plt.subplot(4,4,9),plt.imshow(img_3, cmap='gray'), plt.title('Imagen')\n",
        "plt.xticks([]), plt.yticks([])\n",
        "plt.subplot(4,4,10),plt.plot(img_3_hist), plt.title('Histograma')\n",
        "plt.xticks([]), plt.yticks([])\n",
        "plt.subplot(4,4,11),plt.imshow(img_3_Eq, cmap='gray'), plt.title('Imagen ecualizada')\n",
        "plt.xticks([]), plt.yticks([])\n",
        "plt.subplot(4,4,12),plt.plot(img_3_Eq_hist), plt.title('Histograma')\n",
        "plt.xticks([]), plt.yticks([])\n",
        "\n",
        "plt.subplot(4,4,13),plt.imshow(img_4, cmap='gray'), plt.title('Imagen')\n",
        "plt.xticks([]), plt.yticks([])\n",
        "plt.subplot(4,4,14),plt.plot(img_4_hist), plt.title('Histograma')\n",
        "plt.xticks([]), plt.yticks([])\n",
        "plt.subplot(4,4,15),plt.imshow(img_4_Eq, cmap='gray'), plt.title('Imagen ecualizada')\n",
        "plt.xticks([]), plt.yticks([])\n",
        "plt.subplot(4,4,16),plt.plot(img_4_Eq_hist), plt.title('Histograma')\n",
        "plt.xticks([]), plt.yticks([])\n",
        "\n",
        "plt.show()\n"
      ],
      "metadata": {
        "id": "P24Ir2pkLilE"
      },
      "execution_count": null,
      "outputs": []
    },
    {
      "cell_type": "markdown",
      "source": [
        "Práctica #7. Filtro convolucional pasa altas"
      ],
      "metadata": {
        "id": "o6VTVAWVNJjA"
      }
    },
    {
      "cell_type": "code",
      "source": [
        "import numpy as np\n",
        "import cv2 as cv\n",
        "from matplotlib import pyplot as plt\n",
        "from matplotlib.pyplot import figure\n",
        "\n",
        "img = cv.imread('Fig0333.tif', cv.IMREAD_GRAYSCALE)\n",
        "\n",
        "#Kernel de convolución pasa altas\n",
        "kernel = np.array((\n",
        "\t[4, 0, 0],\n",
        "\t[0, 0, 0],\n",
        "\t[0, 0, -4]), dtype=\"int\")\n",
        "\n",
        "# El kernel convolucion pasa bajas sería puros 1\n",
        "kernel2 = np.array((\n",
        "    [1,2,1],\n",
        "    [2,4,2],\n",
        "    [1,2,1]), dtype = \"int\")\n",
        "\n",
        "outputFiltro = cv.filter2D(img, -1, kernel)\n",
        "\n",
        "figure(figsize=(8, 6), dpi=100)\n",
        "plt.subplot(1,2,1),plt.imshow(img, cmap='gray'), plt.title('Imagen original')\n",
        "plt.xticks([]), plt.yticks([])\n",
        "plt.subplot(1,2,2),plt.imshow(outputFiltro, cmap='gray'), plt.title('Imagen c/Filtro')\n",
        "plt.xticks([]), plt.yticks([])\n",
        "plt.show()"
      ],
      "metadata": {
        "id": "BBefLL3ty4jA"
      },
      "execution_count": null,
      "outputs": []
    },
    {
      "cell_type": "code",
      "source": [
        "import numpy as np\n",
        "import cv2 as cv\n",
        "from matplotlib import pyplot as plt\n",
        "from matplotlib.pyplot import figure\n",
        "\n",
        "img = cv.imread('Fig0338.tif', cv.IMREAD_GRAYSCALE)\n",
        "\n",
        "kernel_3x3 = np.ones((3,3), np.float32) / 9.0\n",
        "#display(kernel_3x3)\n",
        "from skimage.util import random_noise\n",
        "\n",
        "img_ruido = random_noise(img,  mode='gaussian', seed=None, clip=True, mean= 0, var = 0.05)\n",
        "img_ruido = cv.normalize(img_ruido, None, 0, 255, cv.NORM_MINMAX, cv.CV_8U)\n",
        "\n",
        "output3x3 = cv.filter2D(img_ruido, -1, kernel_3x3)\n",
        "blurred = cv.GaussianBlur(img_ruido, (3, 3), cv.BORDER_DEFAULT)\n",
        "\n",
        "figure(figsize=(8, 6), dpi=100)\n",
        "plt.subplot(2,2,1),plt.imshow(img, cmap='gray'), plt.title('Imagen original')\n",
        "plt.xticks([]), plt.yticks([])\n",
        "plt.subplot(2,2,2),plt.imshow(img_ruido, cmap='gray'), plt.title('Imagen con ruido gaussiano')\n",
        "plt.xticks([]), plt.yticks([])\n",
        "plt.subplot(2,2,3),plt.imshow(output3x3, cmap='gray'), plt.title('Imagen salida filtro 3x3')\n",
        "plt.xticks([]), plt.yticks([])\n",
        "plt.subplot(2,2,4),plt.imshow(blurred, cmap='gray'), plt.title('Imagen salida filtro Gaussiano 3x3')\n",
        "plt.xticks([]), plt.yticks([])\n",
        "plt.show()"
      ],
      "metadata": {
        "id": "jaEDvzDOgj2Y"
      },
      "execution_count": null,
      "outputs": []
    },
    {
      "cell_type": "markdown",
      "source": [
        "sss"
      ],
      "metadata": {
        "id": "migN3bcVgmpT"
      }
    },
    {
      "cell_type": "code",
      "source": [
        "import numpy as np\n",
        "import cv2 as cv\n",
        "from matplotlib import pyplot as plt\n",
        "from matplotlib.pyplot import figure\n",
        "\n",
        "img = cv.imread('Fig0333.tif', cv.IMREAD_GRAYSCALE)\n",
        "\n",
        "Gaussian = cv.GaussianBlur(img, (19, 19), 3)\n",
        "LoG = cv.Laplacian(Gaussian, cv.CV_8U, ksize=3)\n",
        "\n",
        "plt.subplot(1,2,1),plt.imshow(img, cmap='gray'), plt.title('Imagen original')\n",
        "plt.subplot(1,2,2),plt.imshow(LoG, cmap='gray'), plt.title('Filtro Laplaciano')\n",
        "plt.show()"
      ],
      "metadata": {
        "id": "FlmuV9_eiHNM"
      },
      "execution_count": null,
      "outputs": []
    }
  ]
}